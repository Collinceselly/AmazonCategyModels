{
 "cells": [
  {
   "cell_type": "code",
   "execution_count": null,
   "id": "d2d56cda",
   "metadata": {},
   "outputs": [],
   "source": [
    "import pandas as pd\n",
    "import random\n",
    "import os\n",
    "import json\n",
    "import pickle\n",
    "import seaborn as sns\n",
    "import matplotlib.pyplot as plt\n",
    "from sklearn.ensemble import RandomForestClassifier\n",
    "from sklearn.tree import DecisionTreeClassifier\n",
    "from sklearn.naive_bayes import GaussianNB\n",
    "from sklearn.neighbors import KNeighborsClassifier\n",
    "from sklearn.svm import SVC\n",
    "from sklearn import svm\n",
    "from sklearn.neural_network import MLPClassifier\n",
    "from sklearn.metrics import confusion_matrix, classification_report\n",
    "from sklearn.preprocessing import StandardScaler,LabelEncoder\n",
    "from sklearn.model_selection import train_test_split\n",
    "from sklearn.feature_extraction.text import CountVectorizer, TfidfVectorizer\n",
    "from sklearn.metrics import f1_score\n",
    "from sklearn.utils import resample\n",
    "from wordcloud import WordCloud, STOPWORDS, ImageColorGenerator\n",
    "%matplotlib inline\n",
    "\n",
    "import tensorflow as tf\n",
    "from tensorflow.keras.preprocessing.text import Tokenizer\n",
    "from tensorflow.keras.preprocessing.sequence import pad_sequences\n",
    "\n",
    "from tensorflow.keras.callbacks import EarlyStopping\n",
    "from tensorflow.keras.models import Sequential\n",
    "from tensorflow.keras.layers import Embedding, GlobalAveragePooling1D, Dense, Dropout, LSTM, Bidirectional"
   ]
  },
  {
   "cell_type": "code",
   "execution_count": null,
   "id": "9f65614d",
   "metadata": {},
   "outputs": [],
   "source": [
    "# patio = pd.read_csv('datasets/SciLearn/AmazonSales/patio_csv.csv')\n",
    "# patio.head()"
   ]
  },
  {
   "cell_type": "code",
   "execution_count": null,
   "id": "d255a577",
   "metadata": {},
   "outputs": [],
   "source": [
    "files = [file for file in os.listdir('datasets/SciLearn/AmazonSales')]\n",
    "for file in files:\n",
    "    print(file)"
   ]
  },
  {
   "cell_type": "code",
   "execution_count": null,
   "id": "5788eabd",
   "metadata": {},
   "outputs": [],
   "source": [
    "files = [file for file in os.listdir('datasets/SciLearn/AmazonSales')]\n",
    "\n",
    "combined_data = pd.DataFrame()\n",
    "\n",
    "for file in files:\n",
    "    df = pd.read_csv('datasets/SciLearn/AmazonSales/' + file)\n",
    "    combined_data = pd.concat([combined_data, df])\n",
    "\n",
    "combined_data.to_csv('datasets/SciLearn/combined_Sales.csv', index = False)"
   ]
  },
  {
   "cell_type": "code",
   "execution_count": null,
   "id": "01975eeb",
   "metadata": {},
   "outputs": [],
   "source": [
    "combined_data.tail()"
   ]
  },
  {
   "cell_type": "code",
   "execution_count": null,
   "id": "7eb648bf",
   "metadata": {},
   "outputs": [],
   "source": [
    "required_columns = combined_data[['reviewText', 'overall', 'Category']]\n",
    "required_columns.head()"
   ]
  },
  {
   "cell_type": "code",
   "execution_count": null,
   "id": "79afc1f1",
   "metadata": {},
   "outputs": [],
   "source": [
    "required_columns = required_columns.sample(frac = 1).reset_index(drop = True)"
   ]
  },
  {
   "cell_type": "code",
   "execution_count": null,
   "id": "c8800eb2",
   "metadata": {},
   "outputs": [],
   "source": [
    "def sentiment(column):\n",
    "    if column['overall'] >= 4:\n",
    "        val = 'POSITIVE'\n",
    "    elif column['overall'] <= 2:\n",
    "        val = 'NEGATIVE'\n",
    "    else:\n",
    "        val = 'NEUTRAL'\n",
    "    return val"
   ]
  },
  {
   "cell_type": "code",
   "execution_count": null,
   "id": "c24f9739",
   "metadata": {},
   "outputs": [],
   "source": [
    "required_columns['sentiment'] = required_columns.apply(sentiment, axis = 1)\n",
    "required_columns.head(10)"
   ]
  },
  {
   "cell_type": "code",
   "execution_count": null,
   "id": "419ec1f4",
   "metadata": {},
   "outputs": [],
   "source": [
    "# cloths = required_columns[required_columns['Category'] == 'Clothing']"
   ]
  },
  {
   "cell_type": "code",
   "execution_count": null,
   "id": "2a8f4ad4",
   "metadata": {},
   "outputs": [],
   "source": [
    "# len(cloths)"
   ]
  },
  {
   "cell_type": "markdown",
   "id": "7837e6af",
   "metadata": {},
   "source": [
    "## Prepare train/test data and pre-process text"
   ]
  },
  {
   "cell_type": "code",
   "execution_count": null,
   "id": "207e9d4d",
   "metadata": {},
   "outputs": [],
   "source": [
    "train_review, test_review, train_category, test_category = train_test_split(required_columns['reviewText'],\n",
    "                                                                           required_columns['Category'], test_size = 0.2,\n",
    "                                                                           random_state = 42)"
   ]
  },
  {
   "cell_type": "markdown",
   "id": "c813a863",
   "metadata": {},
   "source": [
    "## Bag of Words Vectorization"
   ]
  },
  {
   "cell_type": "code",
   "execution_count": null,
   "id": "eba88453",
   "metadata": {},
   "outputs": [],
   "source": [
    "vectorizer = TfidfVectorizer()\n",
    "\n",
    "train_review_vectors = vectorizer.fit_transform(train_review)\n",
    "\n",
    "test_review_vectors = vectorizer.transform(test_review)\n",
    "\n",
    "print(train_review[0])\n",
    "print(train_review_vectors[0].toarray())"
   ]
  },
  {
   "cell_type": "markdown",
   "id": "e6e1784e",
   "metadata": {},
   "source": [
    "## Classification"
   ]
  },
  {
   "cell_type": "code",
   "execution_count": null,
   "id": "04f59197",
   "metadata": {},
   "outputs": [],
   "source": [
    "clf_svm = svm.SVC(kernel = 'linear')\n",
    "\n",
    "clf_svm.fit(train_review_vectors, train_category)\n",
    "\n",
    "# print(test_msg[0])\n",
    "print(clf_svm.predict(test_review_vectors[0]))"
   ]
  },
  {
   "cell_type": "code",
   "execution_count": null,
   "id": "167df346",
   "metadata": {},
   "outputs": [],
   "source": [
    "clf_dec = DecisionTreeClassifier(random_state = 0)\n",
    "\n",
    "clf_dec.fit(train_review_vectors, train_category)\n",
    "\n",
    "# print(test_x[0])\n",
    "print(clf_dec.predict(test_review_vectors[0]))"
   ]
  },
  {
   "cell_type": "code",
   "execution_count": null,
   "id": "f6111963",
   "metadata": {},
   "outputs": [],
   "source": [
    "clf_naive = GaussianNB()\n",
    "\n",
    "clf_naive.fit(train_review_vectors.toarray(), train_category)\n",
    "\n",
    "# print(test_x[0])\n",
    "print(clf_naive.predict(test_review_vectors[0].toarray()))"
   ]
  },
  {
   "cell_type": "code",
   "execution_count": null,
   "id": "f3e2317c",
   "metadata": {},
   "outputs": [],
   "source": [
    "clf_rand = RandomForestClassifier(max_depth=2, random_state=0)\n",
    "\n",
    "clf_rand.fit(train_review_vectors, train_category)\n",
    "\n",
    "# print(test_x[0])\n",
    "print(clf_rand.predict(test_review_vectors[0]))"
   ]
  },
  {
   "cell_type": "code",
   "execution_count": null,
   "id": "61273ef0",
   "metadata": {},
   "outputs": [],
   "source": [
    "clf_neural = MLPClassifier(solver='lbfgs', alpha=1e-5, hidden_layer_sizes=(15,), random_state=1)\n",
    "\n",
    "clf_neural.fit(train_review_vectors, train_category)\n",
    "\n",
    "# print(test_x[0])\n",
    "print(clf_neural.predict(test_review_vectors[0]))"
   ]
  },
  {
   "cell_type": "code",
   "execution_count": null,
   "id": "b63780ef",
   "metadata": {},
   "outputs": [],
   "source": [
    "clf_neigh = KNeighborsClassifier()\n",
    "\n",
    "clf_neigh.fit(train_review_vectors, train_category)\n",
    "\n",
    "# print(test_x[0])\n",
    "print(clf_neigh.predict(test_review_vectors[0]))"
   ]
  },
  {
   "cell_type": "code",
   "execution_count": null,
   "id": "0dfe8d67",
   "metadata": {},
   "outputs": [],
   "source": [
    "test_sample = ['A very interesting reading I have never had before', \n",
    "               'The tailor was awesome, I felt like the product was specifically meant for me', \n",
    "               'The holder mounted perfectly on my weber grill.  Now I dont have to get my table messy with sauce from the brush.  It is also great for  storing my cooking tools and grill brush when Im not grilling',\n",
    "               'The device mounted perfectly on the wall, the display was good, I could even watch games even from my kitchen',\n",
    "               'This stuff is great on just about everything except popcorn (it doesnt stick at all). It has a slightly cheesy-buttery taste and I particularly like using it mixed with mashed potatoes, steamed vegetables and plain white rice. Yum!']\n",
    "test_sample1 = vectorizer.transform(test_sample)"
   ]
  },
  {
   "cell_type": "code",
   "execution_count": null,
   "id": "bc101e97",
   "metadata": {},
   "outputs": [],
   "source": [
    "test_sample1 = vectorizer.transform(test_sample)\n",
    "print(clf_neural.predict(test_sample1))"
   ]
  },
  {
   "cell_type": "code",
   "execution_count": null,
   "id": "e74f177e",
   "metadata": {},
   "outputs": [],
   "source": [
    "test_sample1 = vectorizer.transform(test_sample)\n",
    "print(clf_dec.predict(test_sample1))"
   ]
  },
  {
   "cell_type": "code",
   "execution_count": null,
   "id": "9e50fcef",
   "metadata": {},
   "outputs": [],
   "source": [
    "test_sample = ['A very interesting reading I have never had before', \n",
    "               'The tailor was awesome, I felt like the product was specifically meant for me', \n",
    "               'The holder mounted perfectly on my weber grill.  Now I dont have to get my table messy with sauce from the brush.  It is also great for  storing my cooking tools and grill brush when Im not grilling',\n",
    "               'The device mounted perfectly on the wall, the display was good, I could even watch games even from my kitchen',\n",
    "               'This stuff is great on just about everything except popcorn (it doesnt stick at all). It has a slightly cheesy-buttery taste and I particularly like using it mixed with mashed potatoes, steamed vegetables and plain white rice. Yum!']\n",
    "\n",
    "test_sample1 = vectorizer.transform(test_sample)\n",
    "print(clf_naive(test_sample1.toarray()))"
   ]
  },
  {
   "cell_type": "code",
   "execution_count": null,
   "id": "8f57d2f9",
   "metadata": {},
   "outputs": [],
   "source": [
    "test_sample1 = vectorizer.transform(test_sample)\n",
    "print(clf_rand.predict(test_sample1))"
   ]
  },
  {
   "cell_type": "code",
   "execution_count": null,
   "id": "5288eee6",
   "metadata": {},
   "outputs": [],
   "source": [
    "test_sample1 = vectorizer.transform(test_sample)\n",
    "print(clf_neural.predict(test_sample1))"
   ]
  },
  {
   "cell_type": "code",
   "execution_count": null,
   "id": "a8fd67c7",
   "metadata": {},
   "outputs": [],
   "source": [
    "test_sample1 = vectorizer.transform(test_sample)\n",
    "print(clf_neigh.predict(test_sample1))"
   ]
  },
  {
   "cell_type": "markdown",
   "id": "fd248d75",
   "metadata": {},
   "source": [
    "### Saving the Models"
   ]
  },
  {
   "cell_type": "code",
   "execution_count": null,
   "id": "5e5af7a7",
   "metadata": {},
   "outputs": [],
   "source": [
    "with open('./datasets/SciLearn/models/AmazonReviewCategory/clf_svm.pkl', 'wb') as f:\n",
    "    pickle.dump(clf_svm, f)"
   ]
  },
  {
   "cell_type": "code",
   "execution_count": null,
   "id": "23f0f157",
   "metadata": {},
   "outputs": [],
   "source": [
    "with open('./datasets/SciLearn/models/AmazonReviewCategory/clf_dec.pkl', 'wb') as f:\n",
    "    pickle.dump(clf_dec, f)"
   ]
  },
  {
   "cell_type": "code",
   "execution_count": null,
   "id": "d475691f",
   "metadata": {},
   "outputs": [],
   "source": [
    "with open('./datasets/SciLearn/models/AmazonReviewCategory/clf_naive.pkl', 'wb') as f:\n",
    "    pickle.dump(clf_naive, f)"
   ]
  },
  {
   "cell_type": "code",
   "execution_count": null,
   "id": "5823cfb8",
   "metadata": {},
   "outputs": [],
   "source": [
    "with open('./datasets/SciLearn/models/AmazonReviewCategory/clf_neigh.pkl', 'wb') as f:\n",
    "    pickle.dump(clf_neigh, f)"
   ]
  },
  {
   "cell_type": "code",
   "execution_count": null,
   "id": "9468ce5c",
   "metadata": {},
   "outputs": [],
   "source": [
    "with open('./datasets/SciLearn/models/AmazonReviewCategory/clf_neural.pkl', 'wb') as f:\n",
    "    pickle.dump(clf_neural, f)"
   ]
  },
  {
   "cell_type": "code",
   "execution_count": null,
   "id": "ff9167a1",
   "metadata": {},
   "outputs": [],
   "source": [
    "with open('./datasets/SciLearn/models/AmazonReviewCategory/clf_rand.pkl', 'wb') as f:\n",
    "    pickle.dump(clf_rand, f)"
   ]
  },
  {
   "cell_type": "code",
   "execution_count": null,
   "id": "af69c87f",
   "metadata": {},
   "outputs": [],
   "source": []
  }
 ],
 "metadata": {
  "kernelspec": {
   "display_name": "Python 3 (ipykernel)",
   "language": "python",
   "name": "python3"
  },
  "language_info": {
   "codemirror_mode": {
    "name": "ipython",
    "version": 3
   },
   "file_extension": ".py",
   "mimetype": "text/x-python",
   "name": "python",
   "nbconvert_exporter": "python",
   "pygments_lexer": "ipython3",
   "version": "3.10.9"
  }
 },
 "nbformat": 4,
 "nbformat_minor": 5
}
